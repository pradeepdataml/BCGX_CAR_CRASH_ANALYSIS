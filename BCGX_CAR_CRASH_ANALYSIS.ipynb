{
 "cells": [
  {
   "cell_type": "markdown",
   "id": "40a12583",
   "metadata": {},
   "source": [
    "# IMPORT DEPENDENT LIBRARIES"
   ]
  },
  {
   "cell_type": "code",
   "execution_count": 40,
   "id": "b1b21e11",
   "metadata": {},
   "outputs": [],
   "source": [
    "from pyspark.sql import SparkSession, Window\n",
    "from pyspark.sql.functions import *\n",
    "from pyspark.sql.types import *\n",
    "import pandas as pd\n",
    "import json\n",
    "import os\n",
    "\n",
    "pd.set_option(\"display.max_columns\", None)\n",
    "pd.set_option(\"display.max_rows\", None)"
   ]
  },
  {
   "cell_type": "markdown",
   "id": "de0f6f9f",
   "metadata": {},
   "source": [
    "# LOAD CONFIG"
   ]
  },
  {
   "cell_type": "code",
   "execution_count": 42,
   "id": "e909f54a",
   "metadata": {},
   "outputs": [],
   "source": [
    "with open(\"./config.json\", \"r\") as json_file:\n",
    "    config = json.load(json_file)\n",
    "\n",
    "input_paths = config[\"input_data\"]\n",
    "input_format = config[\"data_formats\"][\"input_format\"]\n",
    "\n",
    "output_paths = config[\"output_data\"]\n",
    "output_format = config[\"data_formats\"][\"output_format\"]"
   ]
  },
  {
   "cell_type": "markdown",
   "id": "61972423",
   "metadata": {},
   "source": [
    "# CREATE SPARK-ENTRY POINT"
   ]
  },
  {
   "cell_type": "code",
   "execution_count": 43,
   "id": "9076188e",
   "metadata": {},
   "outputs": [],
   "source": [
    "os.environ[\"JAVA_HOME\"] = \"C:\\Program Files\\Java\\jdk\"\n",
    "\n",
    "spark = SparkSession.builder.appName(\"BCGX_Case_Study\").getOrCreate()"
   ]
  },
  {
   "cell_type": "markdown",
   "id": "47ee2220",
   "metadata": {},
   "source": [
    "# DATA IMPORTS"
   ]
  },
  {
   "cell_type": "code",
   "execution_count": 44,
   "id": "ffa174fe",
   "metadata": {},
   "outputs": [],
   "source": [
    "charges_df = spark.read.format(input_format).option(\"header\", \"true\").option(\"inferSchema\", \"true\").load(input_paths['Charges'])\n",
    "damages_df = spark.read.format(input_format).option(\"header\", \"true\").option(\"inferSchema\", \"true\").load(input_paths['Damages'])\n",
    "endorse_df = spark.read.format(input_format).option(\"header\", \"true\").option(\"inferSchema\", \"true\").load(input_paths['Endorse'])\n",
    "primary_person_df = spark.read.format(input_format).option(\"header\", \"true\").option(\"inferSchema\", \"true\").load(input_paths['Primary_Person'])\n",
    "units_df = spark.read.format(input_format).option(\"header\", \"true\").option(\"inferSchema\", \"true\").load(input_paths['Units'])\n",
    "restrict_df = spark.read.format(input_format).option(\"header\", \"true\").option(\"inferSchema\", \"true\").load(input_paths['Restrict'])"
   ]
  },
  {
   "cell_type": "markdown",
   "id": "aec79440",
   "metadata": {},
   "source": [
    "# ANALYSIS BEGINS HERE"
   ]
  },
  {
   "cell_type": "markdown",
   "id": "ed547cca",
   "metadata": {},
   "source": [
    "## ANALYSIS 1\n",
    "\n",
    "\n",
    "#### Find the number of crashes (accidents) in which number of males killed are greater than 2?"
   ]
  },
  {
   "cell_type": "code",
   "execution_count": 45,
   "id": "ba85390f",
   "metadata": {},
   "outputs": [
    {
     "data": {
      "text/plain": [
       "0"
      ]
     },
     "execution_count": 45,
     "metadata": {},
     "output_type": "execute_result"
    }
   ],
   "source": [
    "a1_01 = primary_person_df.where(trim(col(\"PRSN_INJRY_SEV_ID\")) == \"KILLED\").groupBy(\"CRASH_ID\", \"PRSN_GNDR_ID\").agg(count(\"*\").alias(\"CRASH_GENDERWISE_FATALITY_COUNT\"))\n",
    "a1_02 = a1_01.where((col(\"CRASH_GENDERWISE_FATALITY_COUNT\") > 2) & (trim(col(\"PRSN_GNDR_ID\")) == \"MALE\"))\n",
    "a1_02.count()"
   ]
  },
  {
   "cell_type": "markdown",
   "id": "3b49f8fe",
   "metadata": {},
   "source": [
    "## ANALYSIS 2\n",
    "\n",
    "#### How many two wheelers are booked for crashes? "
   ]
  },
  {
   "cell_type": "code",
   "execution_count": 46,
   "id": "e8fa6598",
   "metadata": {},
   "outputs": [
    {
     "data": {
      "text/plain": [
       "773"
      ]
     },
     "execution_count": 46,
     "metadata": {},
     "output_type": "execute_result"
    }
   ],
   "source": [
    "two_wheelers = [\"MOTORCYCLE\", \"POLICE MOTORCYCLE\"]\n",
    "\n",
    "a2_01 = units_df.where(trim(col(\"VEH_BODY_STYL_ID\")).isin(two_wheelers))\n",
    "a2_02 = a2_01.select(\"CRASH_ID\", \"UNIT_NBR\").distinct()\n",
    "a2_02.count()"
   ]
  },
  {
   "cell_type": "markdown",
   "id": "9e80c786",
   "metadata": {},
   "source": [
    "## ANALYSIS 3\n",
    "\n",
    "#### Determine the Top 5 Vehicle Makes of the cars present in the crashes in which driver died and Airbags did not deploy."
   ]
  },
  {
   "cell_type": "code",
   "execution_count": 47,
   "id": "c586f3c1",
   "metadata": {},
   "outputs": [
    {
     "name": "stdout",
     "output_type": "stream",
     "text": [
      "+-----------+--------------------------+\n",
      "|VEH_MAKE_ID|COUNT_REQ_CRASHES_PER_MAKE|\n",
      "+-----------+--------------------------+\n",
      "|  CHEVROLET|                         8|\n",
      "|       FORD|                         6|\n",
      "|     NISSAN|                         5|\n",
      "|      DODGE|                         2|\n",
      "|      HONDA|                         2|\n",
      "+-----------+--------------------------+\n",
      "\n"
     ]
    }
   ],
   "source": [
    "# get crash-specific info\n",
    "a3_01 = primary_person_df.where((trim(col(\"PRSN_TYPE_ID\")) == \"DRIVER\") & (trim(col(\"PRSN_INJRY_SEV_ID\")) == \"KILLED\") & (trim(col(\"PRSN_AIRBAG_ID\")) == \"NOT DEPLOYED\"))\n",
    "a3_02 = a3_01.select(\"CRASH_ID\", \"UNIT_NBR\").distinct()\n",
    "\n",
    "# get vehicle-specific info\n",
    "a3_03 = units_df.select(\"CRASH_ID\", \"UNIT_NBR\", \"VEH_MAKE_ID\").distinct()\n",
    "\n",
    "# bring the two together\n",
    "a3_04 = a3_02.join(a3_03, on = [\"CRASH_ID\", \"UNIT_NBR\"], how = \"left\")\n",
    "\n",
    "a3_05 = a3_04.groupBy(\"VEH_MAKE_ID\").agg(count('*').alias(\"COUNT_REQ_CRASHES_PER_MAKE\")).orderBy(col(\"COUNT_REQ_CRASHES_PER_MAKE\").desc())\n",
    "a3_06 = a3_05.select(\"VEH_MAKE_ID\", \"COUNT_REQ_CRASHES_PER_MAKE\").limit(5)\n",
    "a3_06.show()"
   ]
  },
  {
   "cell_type": "markdown",
   "id": "cf0e1c19",
   "metadata": {},
   "source": [
    "## ANALYSIS 4\n",
    "#### Determine number of Vehicles with driver having valid licences involved in hit and run? "
   ]
  },
  {
   "cell_type": "code",
   "execution_count": 48,
   "id": "a99c7adc",
   "metadata": {},
   "outputs": [
    {
     "data": {
      "text/plain": [
       "2569"
      ]
     },
     "execution_count": 48,
     "metadata": {},
     "output_type": "execute_result"
    }
   ],
   "source": [
    "# required license types\n",
    "valid_license_types = [\"DRIVER LICENSE\", \"COMMERCIAL DRIVER LIC.\"]\n",
    "\n",
    "# get legit licensed driver crash records\n",
    "a4_01 = primary_person_df.where(trim(col(\"DRVR_LIC_TYPE_ID\")).isin(valid_license_types)).select(\"CRASH_ID\", \"UNIT_NBR\").distinct()\n",
    "# get hit and run crash records\n",
    "a4_02 = units_df.where(trim(col(\"VEH_HNR_FL\")) == \"Y\").select(\"CRASH_ID\", \"UNIT_NBR\").distinct()\n",
    "\n",
    "# bring the two together\n",
    "a4_03 = a4_01.join(a4_02, on = [\"CRASH_ID\", \"UNIT_NBR\"], how = \"inner\")\n",
    "a4_03.count()"
   ]
  },
  {
   "cell_type": "markdown",
   "id": "c5d6c14a",
   "metadata": {},
   "source": [
    "## ANALYSIS 5\n",
    "#### Which state has highest number of accidents in which females are not involved? "
   ]
  },
  {
   "cell_type": "code",
   "execution_count": 49,
   "id": "d6844948",
   "metadata": {},
   "outputs": [
    {
     "name": "stdout",
     "output_type": "stream",
     "text": [
      "+----------------+-----------+\n",
      "|VEH_LIC_STATE_ID|STATE_COUNT|\n",
      "+----------------+-----------+\n",
      "|              TX|      36588|\n",
      "+----------------+-----------+\n",
      "\n"
     ]
    }
   ],
   "source": [
    "# let's first seggregate the crashes doesn't involve women\n",
    "\n",
    "a5_01 = primary_person_df.groupBy(\"CRASH_ID\").agg(collect_set(\"PRSN_GNDR_ID\").alias(\"CRASH_GENDER_POOL\"))\n",
    "a5_02 = a5_01.where((size(col(\"CRASH_GENDER_POOL\")) == 1) & (trim(col(\"CRASH_GENDER_POOL\")[0]) == \"MALE\")).select(\"CRASH_ID\").distinct()\n",
    "\n",
    "# Let's now get the corresponding states for those crashes\n",
    "a5_03 = units_df.select(\"CRASH_ID\", \"VEH_LIC_STATE_ID\").distinct()\n",
    "\n",
    "a5_04 = a5_02.join(a5_03, on = [\"CRASH_ID\"], how = \"left\").select(\"VEH_LIC_STATE_ID\")\n",
    "a5_05 = a5_04.groupBy(\"VEH_LIC_STATE_ID\").agg(count(\"*\").alias(\"STATE_COUNT\")).orderBy(col(\"STATE_COUNT\").desc())\n",
    "a5_06 = a5_05.limit(1).select(\"VEH_LIC_STATE_ID\",\"STATE_COUNT\")\n",
    "a5_06.show()"
   ]
  },
  {
   "cell_type": "markdown",
   "id": "20851c53",
   "metadata": {},
   "source": [
    "## ANALYSIS 6\n",
    "#### Which are the Top 3rd to 5th VEH_MAKE_IDs that contribute to a largest number of injuries including death?"
   ]
  },
  {
   "cell_type": "code",
   "execution_count": 50,
   "id": "9bcd898d",
   "metadata": {},
   "outputs": [
    {
     "name": "stdout",
     "output_type": "stream",
     "text": [
      "+-----------+-------------------+\n",
      "|VEH_MAKE_ID|RANK_BY_CRASH_COUNT|\n",
      "+-----------+-------------------+\n",
      "|     TOYOTA|                  3|\n",
      "|      DODGE|                  4|\n",
      "|     NISSAN|                  5|\n",
      "+-----------+-------------------+\n",
      "\n"
     ]
    }
   ],
   "source": [
    "# records corresponding to all possible injuries\n",
    "req_injury_sev = [\"NOT INJURED\", \"NA\", \"UNKNOWN\"]\n",
    "a6_01 = primary_person_df.where(~trim(col(\"PRSN_INJRY_SEV_ID\")).isin(req_injury_sev)).select(\"CRASH_ID\", \"UNIT_NBR\").distinct()\n",
    "\n",
    "# get the make_id of vehicles involved in all crashes\n",
    "a6_02 = units_df.select(\"CRASH_ID\", \"UNIT_NBR\", \"VEH_MAKE_ID\").distinct()\n",
    "\n",
    "#bring the two together\n",
    "a6_03 = a6_01.join(a6_02, on = [\"CRASH_ID\", \"UNIT_NBR\"], how = \"left\")\n",
    "a6_04 = a6_03.groupBy(\"VEH_MAKE_ID\").agg(count(\"*\").alias(\"COUNT_BY_MAKE_ID\"))\n",
    "\n",
    "# Get those between Rank 3 & 5\n",
    "w2 = Window.orderBy(col(\"COUNT_BY_MAKE_ID\").desc())\n",
    "a6_05 = a6_04.withColumn(\"RANK_BY_CRASH_COUNT\", rank().over(w2))\n",
    "a6_06 = a6_05.select(\"VEH_MAKE_ID\",\"RANK_BY_CRASH_COUNT\").where((col(\"RANK_BY_CRASH_COUNT\") > 2))\n",
    "a6_07 = a6_06.where((col(\"RANK_BY_CRASH_COUNT\") < 6))\n",
    "a6_07.show()"
   ]
  },
  {
   "cell_type": "markdown",
   "id": "ba9cb9a0",
   "metadata": {},
   "source": [
    "## ANALYSIS 7\n",
    "#### For all the body styles involved in crashes, mention the top ethnic user group of each unique body style  "
   ]
  },
  {
   "cell_type": "code",
   "execution_count": 51,
   "id": "24215f97",
   "metadata": {},
   "outputs": [
    {
     "name": "stdout",
     "output_type": "stream",
     "text": [
      "+---------------------------------+---------------+\n",
      "|VEH_BODY_STYL_ID                 |TOP_ETHNIC_USER|\n",
      "+---------------------------------+---------------+\n",
      "|AMBULANCE                        |WHITE          |\n",
      "|BUS                              |BLACK          |\n",
      "|FARM EQUIPMENT                   |WHITE          |\n",
      "|FIRE TRUCK                       |WHITE          |\n",
      "|MOTORCYCLE                       |WHITE          |\n",
      "|NA                               |WHITE          |\n",
      "|NEV-NEIGHBORHOOD ELECTRIC VEHICLE|WHITE          |\n",
      "|NOT REPORTED                     |WHITE          |\n",
      "|OTHER  (EXPLAIN IN NARRATIVE)    |WHITE          |\n",
      "|PASSENGER CAR, 2-DOOR            |WHITE          |\n",
      "|PASSENGER CAR, 4-DOOR            |WHITE          |\n",
      "|PICKUP                           |WHITE          |\n",
      "|POLICE CAR/TRUCK                 |WHITE          |\n",
      "|POLICE MOTORCYCLE                |WHITE          |\n",
      "|SPORT UTILITY VEHICLE            |WHITE          |\n",
      "|TRUCK                            |WHITE          |\n",
      "|TRUCK TRACTOR                    |WHITE          |\n",
      "|UNKNOWN                          |UNKNOWN        |\n",
      "|VAN                              |WHITE          |\n",
      "|YELLOW SCHOOL BUS                |BLACK          |\n",
      "+---------------------------------+---------------+\n",
      "\n"
     ]
    }
   ],
   "source": [
    "# get body-style info for each crash unit\n",
    "a7_01 = units_df.select(\"CRASH_ID\", \"UNIT_NBR\", \"VEH_BODY_STYL_ID\").distinct()\n",
    "\n",
    "# get ethnicity of person involved in crash\n",
    "a7_02 = primary_person_df.select(\"CRASH_ID\", \"UNIT_NBR\", \"PRSN_ETHNICITY_ID\").distinct()\n",
    "\n",
    "# bring them together\n",
    "a7_03 = a7_01.join(a7_02, on = [\"CRASH_ID\", \"UNIT_NBR\"], how = \"inner\").drop(\"CRASH_ID\", \"UNIT_NBR\")\n",
    "\n",
    "a7_04 = a7_03.groupBy(\"VEH_BODY_STYL_ID\", \"PRSN_ETHNICITY_ID\").agg(count(\"*\").alias(\"count_ethnic_bdystyl_group\"))#.show()\n",
    "\n",
    "w3 = Window.partitionBy(\"VEH_BODY_STYL_ID\").orderBy(col(\"count_ethnic_bdystyl_group\").desc())\n",
    "a7_05 = a7_04.withColumn(\"rank_ethnic_bdystyl_group\", rank().over(w3))\n",
    "a7_06 = a7_05.where(col(\"rank_ethnic_bdystyl_group\") == 1).select(\"VEH_BODY_STYL_ID\", \"PRSN_ETHNICITY_ID\")\n",
    "a7_06 = a7_06.withColumnRenamed(\"PRSN_ETHNICITY_ID\", \"TOP_ETHNIC_USER\")\n",
    "a7_06.show(truncate = False)"
   ]
  },
  {
   "cell_type": "markdown",
   "id": "1c16a9f6",
   "metadata": {},
   "source": [
    "## ANALYSIS 8\n",
    "#### Among the crashed cars, what are the Top 5 Zip Codes with highest number crashes with alcohols as the contributing factor to a crash (Use Driver Zip Code)"
   ]
  },
  {
   "cell_type": "code",
   "execution_count": 52,
   "id": "c53ae197",
   "metadata": {},
   "outputs": [
    {
     "name": "stdout",
     "output_type": "stream",
     "text": [
      "+--------+-------------------+\n",
      "|DRVR_ZIP|DND_CRASH_COUNT_ZIP|\n",
      "+--------+-------------------+\n",
      "|   78521|                 34|\n",
      "|   78741|                 33|\n",
      "|   75067|                 32|\n",
      "|   78130|                 30|\n",
      "|   78586|                 29|\n",
      "+--------+-------------------+\n",
      "\n"
     ]
    }
   ],
   "source": [
    "alcohol_contrib_factors = [\"UNDER INFLUENCE - ALCOHOL\", \"HAD BEEN DRINKING\"]\n",
    "\n",
    "# get crash-victims with alcohol as the contributing factor\n",
    "a8_01 = units_df.where(trim(col(\"CONTRIB_FACTR_1_ID\")).isin(alcohol_contrib_factors)).select(\"CRASH_ID\", \"UNIT_NBR\").distinct()\n",
    "# get zip info of crash-victims\n",
    "a8_02 = primary_person_df.select(\"CRASH_ID\", \"UNIT_NBR\", \"DRVR_ZIP\").distinct()\n",
    "\n",
    "# bring both together\n",
    "a8_03 = a8_01.join(a8_02, on = [\"CRASH_ID\", \"UNIT_NBR\"], how = \"left\")\n",
    "\n",
    "# get the count of alcohol induced crashes by driver zip\n",
    "a8_04 = a8_03.groupBy(\"DRVR_ZIP\").agg(count('*').alias(\"DND_CRASH_COUNT_ZIP\")).orderBy(col(\"DND_CRASH_COUNT_ZIP\").desc()).limit(6)\n",
    "a8_05 = a8_04.where(col(\"DRVR_ZIP\").isNotNull()).distinct()\n",
    "a8_05.show()"
   ]
  },
  {
   "cell_type": "markdown",
   "id": "14701d8b",
   "metadata": {},
   "source": [
    "## ANALYSIS 9\n",
    "#### Count of Distinct Crash IDs where no damaged property was observed and Damage Level (VEH_DMAG_SCL~) is above 4 and car avails Insurance"
   ]
  },
  {
   "cell_type": "code",
   "execution_count": 53,
   "id": "1c2cc26c",
   "metadata": {},
   "outputs": [
    {
     "data": {
      "text/plain": [
       "8849"
      ]
     },
     "execution_count": 53,
     "metadata": {},
     "output_type": "execute_result"
    }
   ],
   "source": [
    "req_damage_levels = [\"DAMAGED 5\",\"DAMAGED 6\",\"DAMAGED 7 HIGHEST\"]\n",
    "# get crashes with req damage levels and valid insurance \n",
    "a9_01 = units_df.where((trim(col('VEH_DMAG_SCL_1_ID')).isin(req_damage_levels) | trim(col('VEH_DMAG_SCL_2_ID')).isin(req_damage_levels)))\n",
    "a9_02 = a9_01.where(trim(col('FIN_RESP_TYPE_ID')).contains(\"INSURANCE\")).select(\"CRASH_ID\").distinct()\n",
    "\n",
    "# get no damage crashes from above with an anti-left join with damages_df\n",
    "a9_03 = damages_df.select(\"CRASH_ID\").distinct()\n",
    "\n",
    "a9_04 = a9_02.join(a9_03, on = [\"CRASH_ID\"], how = 'leftanti')\n",
    "a9_04.count()"
   ]
  },
  {
   "cell_type": "markdown",
   "id": "9665d95e",
   "metadata": {},
   "source": [
    "## ANALYSIS 10\n",
    "#### Determine the Top 5 Vehicle Makes where drivers are charged with speeding related offences, has licensed Drivers, used top 10 used vehicle colours and has car licensed with the Top 25 states with highest number of offences (to be deduced from the data)"
   ]
  },
  {
   "cell_type": "code",
   "execution_count": 54,
   "id": "773678b1",
   "metadata": {},
   "outputs": [
    {
     "name": "stdout",
     "output_type": "stream",
     "text": [
      "+-----------+--------------+\n",
      "|VEH_MAKE_ID|MAKEWISE_COUNT|\n",
      "+-----------+--------------+\n",
      "|       FORD|          4270|\n",
      "|  CHEVROLET|          3707|\n",
      "|     TOYOTA|          2267|\n",
      "|      DODGE|          1931|\n",
      "|      HONDA|          1385|\n",
      "+-----------+--------------+\n",
      "\n"
     ]
    }
   ],
   "source": [
    "# get account of drivers charged with speeding related offense\n",
    "a10_01 = charges_df.filter(col('CHARGE').contains('SPEED')).select('CRASH_ID','UNIT_NBR','CHARGE')\n",
    "\n",
    "# get top 10 used vehicle colors\n",
    "a10_02 = units_df.filter(\"VEH_COLOR_ID != 'NA'\").select('VEH_COLOR_ID').groupBy('VEH_COLOR_ID').agg(count('*').alias(\"COUNT_BY_COLORS\"))\n",
    "a10_03 = a10_02.withColumn('RANK_TOP_COLORS',rank().over(Window.orderBy(col('COUNT_BY_COLORS').desc()))).filter(col(\"RANK_TOP_COLORS\") <= 10).select('VEH_COLOR_ID')\n",
    "\n",
    "# get top 25 states\n",
    "a10_04 = units_df.filter(~col('VEH_LIC_STATE_ID').isin(['NA','Unknown','Other'])).select('VEH_LIC_STATE_ID').groupBy('VEH_LIC_STATE_ID').agg(count('*').alias(\"COUNT_BY_STATE\"))\n",
    "a10_05 = a10_04.withColumn('RANK_TOP_STATES',rank().over(Window.orderBy(col('COUNT_BY_STATE').desc()))).filter(col(\"RANK_TOP_STATES\") <= 25).select('VEH_LIC_STATE_ID')\n",
    "\n",
    "# get crashes corresponding to top 10 colors\n",
    "a10_06 = units_df.join(a10_03,on=['VEH_COLOR_ID'],how='inner').select('CRASH_ID','UNIT_NBR','VEH_MAKE_ID','VEH_LIC_STATE_ID')\n",
    "\n",
    "# further, get crashes corresponding to speeding related offense\n",
    "a10_07 = a10_06.join(a10_01,on=['CRASH_ID','UNIT_NBR'],how='inner').select('CRASH_ID','UNIT_NBR','VEH_MAKE_ID','VEH_LIC_STATE_ID')\n",
    "\n",
    "#furthur, get the crashes that occured only in the top 25 states\n",
    "a10_08 = a10_07.join(a10_05, on=['VEH_LIC_STATE_ID'],how='inner').select('CRASH_ID','UNIT_NBR','VEH_MAKE_ID')\n",
    "\n",
    "#crashes corresponding to licensed drivers\n",
    "a10_09 = primary_person_df.filter(~trim(col(\"DRVR_LIC_CLS_ID\")).isin(['UNLICENSED', \"NA\", \"UNKNOWN\"])).select('CRASH_ID','UNIT_NBR')\n",
    "\n",
    "#bring them together\n",
    "a10_10 = a10_09.join(a10_08,on=['CRASH_ID','UNIT_NBR'],how='inner').select('VEH_MAKE_ID').groupBy('VEH_MAKE_ID').agg(count('*').alias(\"MAKEWISE_COUNT\")) \n",
    "a10_11 = a10_10.orderBy(col(\"MAKEWISE_COUNT\").desc()).limit(5)\n",
    "\n",
    "a10_11.show()"
   ]
  },
  {
   "cell_type": "code",
   "execution_count": null,
   "id": "040b9a19",
   "metadata": {},
   "outputs": [],
   "source": []
  }
 ],
 "metadata": {
  "kernelspec": {
   "display_name": "Python 3 (ipykernel)",
   "language": "python",
   "name": "python3"
  },
  "language_info": {
   "codemirror_mode": {
    "name": "ipython",
    "version": 3
   },
   "file_extension": ".py",
   "mimetype": "text/x-python",
   "name": "python",
   "nbconvert_exporter": "python",
   "pygments_lexer": "ipython3",
   "version": "3.11.4"
  }
 },
 "nbformat": 4,
 "nbformat_minor": 5
}
