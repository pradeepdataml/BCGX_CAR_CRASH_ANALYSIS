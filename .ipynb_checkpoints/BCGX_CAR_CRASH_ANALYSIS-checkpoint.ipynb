{
 "cells": [
  {
   "cell_type": "markdown",
   "id": "40a12583",
   "metadata": {},
   "source": [
    "# IMPORT DEPENDENT LIBRARIES"
   ]
  },
  {
   "cell_type": "code",
   "execution_count": 1,
   "id": "b1b21e11",
   "metadata": {},
   "outputs": [],
   "source": [
    "from pyspark.sql import SparkSession, Window\n",
    "from pyspark.sql.functions import *\n",
    "from pyspark.sql.types import *\n",
    "import pandas as pd\n",
    "import json\n",
    "import os\n",
    "\n",
    "pd.set_option(\"display.max_columns\", None)\n",
    "pd.set_option(\"display.max_rows\", None)"
   ]
  },
  {
   "cell_type": "markdown",
   "id": "de0f6f9f",
   "metadata": {},
   "source": [
    "# LOAD CONFIG"
   ]
  },
  {
   "cell_type": "code",
   "execution_count": 2,
   "id": "60c03676",
   "metadata": {},
   "outputs": [],
   "source": [
    "# %cd Case_Study_BCGX"
   ]
  },
  {
   "cell_type": "code",
   "execution_count": 3,
   "id": "e909f54a",
   "metadata": {},
   "outputs": [],
   "source": [
    "with open(\"./config.json\", \"r\") as json_file:\n",
    "    config = json.load(json_file)\n",
    "\n",
    "input_paths = config[\"input_data\"]\n",
    "input_format = config[\"data_formats\"][\"input_format\"]\n",
    "\n",
    "output_paths = config[\"output_data\"]\n",
    "output_format = config[\"data_formats\"][\"output_format\"]"
   ]
  },
  {
   "cell_type": "markdown",
   "id": "61972423",
   "metadata": {},
   "source": [
    "# CREATE SPARK-ENTRY POINT"
   ]
  },
  {
   "cell_type": "code",
   "execution_count": 4,
   "id": "9076188e",
   "metadata": {},
   "outputs": [],
   "source": [
    "os.environ[\"JAVA_HOME\"] = \"C:\\Program Files\\Java\\jdk\"\n",
    "\n",
    "spark = SparkSession.builder.appName(\"BCGX_Case_Study\").getOrCreate()"
   ]
  },
  {
   "cell_type": "markdown",
   "id": "47ee2220",
   "metadata": {},
   "source": [
    "# DATA IMPORTS"
   ]
  },
  {
   "cell_type": "code",
   "execution_count": 5,
   "id": "ffa174fe",
   "metadata": {},
   "outputs": [],
   "source": [
    "charges_df = spark.read.format(input_format).option(\"header\", \"true\").option(\"inferSchema\", \"true\").load(input_paths['Charges'])\n",
    "damages_df = spark.read.format(input_format).option(\"header\", \"true\").option(\"inferSchema\", \"true\").load(input_paths['Damages'])\n",
    "endorse_df = spark.read.format(input_format).option(\"header\", \"true\").option(\"inferSchema\", \"true\").load(input_paths['Endorse'])\n",
    "primary_person_df = spark.read.format(input_format).option(\"header\", \"true\").option(\"inferSchema\", \"true\").load(input_paths['Primary_Person'])\n",
    "units_df = spark.read.format(input_format).option(\"header\", \"true\").option(\"inferSchema\", \"true\").load(input_paths['Units'])\n",
    "restrict_df = spark.read.format(input_format).option(\"header\", \"true\").option(\"inferSchema\", \"true\").load(input_paths['Restrict'])"
   ]
  },
  {
   "cell_type": "markdown",
   "id": "aec79440",
   "metadata": {},
   "source": [
    "# ANALYSIS BEGINS HERE"
   ]
  },
  {
   "cell_type": "markdown",
   "id": "ed547cca",
   "metadata": {},
   "source": [
    "## ANALYSIS 1\n",
    "\n",
    "\n",
    "#### Find the number of crashes (accidents) in which number of males killed are greater than 2?"
   ]
  },
  {
   "cell_type": "code",
   "execution_count": 6,
   "id": "ba85390f",
   "metadata": {},
   "outputs": [
    {
     "data": {
      "text/plain": [
       "0"
      ]
     },
     "execution_count": 6,
     "metadata": {},
     "output_type": "execute_result"
    }
   ],
   "source": [
    "# a1_01 = primary_person_df.where((trim(col(\"PRSN_GNDR_ID\")) == \"MALE\") & (col(\"DEATH_CNT\") > 0))\n",
    "\n",
    "# w1 = Window.partitionBy(\"CRASH_ID\")\n",
    "# a1_02 = a1_01.withColumn(\"total_fatality_males_per_crash\", sum(col(\"DEATH_CNT\")).over(w1)).drop(\"DEATH_CNT\").distinct()\n",
    "# a1_03 = a1_02.where(col(\"total_fatality_males_per_crash\") > 2)\n",
    "# a1_03.count()\n",
    "\n",
    "a1_01 = primary_person_df.where(trim(col(\"PRSN_INJRY_SEV_ID\")) == \"KILLED\").groupBy(\"CRASH_ID\", \"PRSN_GNDR_ID\").agg(count(\"*\").alias(\"CRASH_GENDERWISE_FATALITY_COUNT\"))\n",
    "a1_02 = a1_01.where((col(\"CRASH_GENDERWISE_FATALITY_COUNT\") > 2) & (trim(col(\"PRSN_GNDR_ID\")) == \"MALE\"))\n",
    "a1_02.count()"
   ]
  },
  {
   "cell_type": "markdown",
   "id": "3b49f8fe",
   "metadata": {},
   "source": [
    "## ANALYSIS 2\n",
    "\n",
    "#### How many two wheelers are booked for crashes? "
   ]
  },
  {
   "cell_type": "code",
   "execution_count": 7,
   "id": "e8fa6598",
   "metadata": {},
   "outputs": [
    {
     "ename": "AnalysisException",
     "evalue": "[UNRESOLVED_COLUMN.WITH_SUGGESTION] A column or function parameter with name `VEH_BODY_STYL_ID` cannot be resolved. Did you mean one of the following? [`PRSN_REST_ID`, `PRSN_TYPE_ID`, `CRASH_ID`, `DRVR_DRG_CAT_1_ID`, `DRVR_LIC_STATE_ID`].;\n'Filter trim('VEH_BODY_STYL_ID, None) IN (MOTORCYCLE,POLICE MOTORCYCLE)\n+- Relation [CRASH_ID#169,UNIT_NBR#170,PRSN_NBR#171,PRSN_TYPE_ID#172,PRSN_OCCPNT_POS_ID#173,PRSN_INJRY_SEV_ID#174,PRSN_AGE#175,PRSN_ETHNICITY_ID#176,PRSN_GNDR_ID#177,PRSN_EJCT_ID#178,PRSN_REST_ID#179,PRSN_AIRBAG_ID#180,PRSN_HELMET_ID#181,PRSN_SOL_FL#182,PRSN_ALC_SPEC_TYPE_ID#183,PRSN_ALC_RSLT_ID#184,PRSN_BAC_TEST_RSLT#185,PRSN_DRG_SPEC_TYPE_ID#186,PRSN_DRG_RSLT_ID#187,DRVR_DRG_CAT_1_ID#188,PRSN_DEATH_TIME#189,INCAP_INJRY_CNT#190,NONINCAP_INJRY_CNT#191,POSS_INJRY_CNT#192,... 8 more fields] csv\n",
     "output_type": "error",
     "traceback": [
      "\u001b[1;31m---------------------------------------------------------------------------\u001b[0m",
      "\u001b[1;31mAnalysisException\u001b[0m                         Traceback (most recent call last)",
      "Cell \u001b[1;32mIn[7], line 3\u001b[0m\n\u001b[0;32m      1\u001b[0m two_wheelers \u001b[38;5;241m=\u001b[39m [\u001b[38;5;124m\"\u001b[39m\u001b[38;5;124mMOTORCYCLE\u001b[39m\u001b[38;5;124m\"\u001b[39m, \u001b[38;5;124m\"\u001b[39m\u001b[38;5;124mPOLICE MOTORCYCLE\u001b[39m\u001b[38;5;124m\"\u001b[39m]\n\u001b[1;32m----> 3\u001b[0m a2_01 \u001b[38;5;241m=\u001b[39m units_df\u001b[38;5;241m.\u001b[39mwhere(trim(col(\u001b[38;5;124m\"\u001b[39m\u001b[38;5;124mVEH_BODY_STYL_ID\u001b[39m\u001b[38;5;124m\"\u001b[39m))\u001b[38;5;241m.\u001b[39misin(two_wheelers))\n\u001b[0;32m      4\u001b[0m a2_02 \u001b[38;5;241m=\u001b[39m a2_01\u001b[38;5;241m.\u001b[39mselect(\u001b[38;5;124m\"\u001b[39m\u001b[38;5;124mCRASH_ID\u001b[39m\u001b[38;5;124m\"\u001b[39m, \u001b[38;5;124m\"\u001b[39m\u001b[38;5;124mUNIT_NBR\u001b[39m\u001b[38;5;124m\"\u001b[39m)\u001b[38;5;241m.\u001b[39mdistinct()\n\u001b[0;32m      5\u001b[0m a2_02\u001b[38;5;241m.\u001b[39mcount()\n",
      "File \u001b[1;32m~\\anaconda3\\Lib\\site-packages\\pyspark\\sql\\dataframe.py:3325\u001b[0m, in \u001b[0;36mDataFrame.filter\u001b[1;34m(self, condition)\u001b[0m\n\u001b[0;32m   3323\u001b[0m     jdf \u001b[38;5;241m=\u001b[39m \u001b[38;5;28mself\u001b[39m\u001b[38;5;241m.\u001b[39m_jdf\u001b[38;5;241m.\u001b[39mfilter(condition)\n\u001b[0;32m   3324\u001b[0m \u001b[38;5;28;01melif\u001b[39;00m \u001b[38;5;28misinstance\u001b[39m(condition, Column):\n\u001b[1;32m-> 3325\u001b[0m     jdf \u001b[38;5;241m=\u001b[39m \u001b[38;5;28mself\u001b[39m\u001b[38;5;241m.\u001b[39m_jdf\u001b[38;5;241m.\u001b[39mfilter(condition\u001b[38;5;241m.\u001b[39m_jc)\n\u001b[0;32m   3326\u001b[0m \u001b[38;5;28;01melse\u001b[39;00m:\n\u001b[0;32m   3327\u001b[0m     \u001b[38;5;28;01mraise\u001b[39;00m PySparkTypeError(\n\u001b[0;32m   3328\u001b[0m         error_class\u001b[38;5;241m=\u001b[39m\u001b[38;5;124m\"\u001b[39m\u001b[38;5;124mNOT_COLUMN_OR_STR\u001b[39m\u001b[38;5;124m\"\u001b[39m,\n\u001b[0;32m   3329\u001b[0m         message_parameters\u001b[38;5;241m=\u001b[39m{\u001b[38;5;124m\"\u001b[39m\u001b[38;5;124marg_name\u001b[39m\u001b[38;5;124m\"\u001b[39m: \u001b[38;5;124m\"\u001b[39m\u001b[38;5;124mcondition\u001b[39m\u001b[38;5;124m\"\u001b[39m, \u001b[38;5;124m\"\u001b[39m\u001b[38;5;124marg_type\u001b[39m\u001b[38;5;124m\"\u001b[39m: \u001b[38;5;28mtype\u001b[39m(condition)\u001b[38;5;241m.\u001b[39m\u001b[38;5;18m__name__\u001b[39m},\n\u001b[0;32m   3330\u001b[0m     )\n",
      "File \u001b[1;32m~\\anaconda3\\Lib\\site-packages\\py4j\\java_gateway.py:1322\u001b[0m, in \u001b[0;36mJavaMember.__call__\u001b[1;34m(self, *args)\u001b[0m\n\u001b[0;32m   1316\u001b[0m command \u001b[38;5;241m=\u001b[39m proto\u001b[38;5;241m.\u001b[39mCALL_COMMAND_NAME \u001b[38;5;241m+\u001b[39m\\\n\u001b[0;32m   1317\u001b[0m     \u001b[38;5;28mself\u001b[39m\u001b[38;5;241m.\u001b[39mcommand_header \u001b[38;5;241m+\u001b[39m\\\n\u001b[0;32m   1318\u001b[0m     args_command \u001b[38;5;241m+\u001b[39m\\\n\u001b[0;32m   1319\u001b[0m     proto\u001b[38;5;241m.\u001b[39mEND_COMMAND_PART\n\u001b[0;32m   1321\u001b[0m answer \u001b[38;5;241m=\u001b[39m \u001b[38;5;28mself\u001b[39m\u001b[38;5;241m.\u001b[39mgateway_client\u001b[38;5;241m.\u001b[39msend_command(command)\n\u001b[1;32m-> 1322\u001b[0m return_value \u001b[38;5;241m=\u001b[39m get_return_value(\n\u001b[0;32m   1323\u001b[0m     answer, \u001b[38;5;28mself\u001b[39m\u001b[38;5;241m.\u001b[39mgateway_client, \u001b[38;5;28mself\u001b[39m\u001b[38;5;241m.\u001b[39mtarget_id, \u001b[38;5;28mself\u001b[39m\u001b[38;5;241m.\u001b[39mname)\n\u001b[0;32m   1325\u001b[0m \u001b[38;5;28;01mfor\u001b[39;00m temp_arg \u001b[38;5;129;01min\u001b[39;00m temp_args:\n\u001b[0;32m   1326\u001b[0m     \u001b[38;5;28;01mif\u001b[39;00m \u001b[38;5;28mhasattr\u001b[39m(temp_arg, \u001b[38;5;124m\"\u001b[39m\u001b[38;5;124m_detach\u001b[39m\u001b[38;5;124m\"\u001b[39m):\n",
      "File \u001b[1;32m~\\anaconda3\\Lib\\site-packages\\pyspark\\errors\\exceptions\\captured.py:185\u001b[0m, in \u001b[0;36mcapture_sql_exception.<locals>.deco\u001b[1;34m(*a, **kw)\u001b[0m\n\u001b[0;32m    181\u001b[0m converted \u001b[38;5;241m=\u001b[39m convert_exception(e\u001b[38;5;241m.\u001b[39mjava_exception)\n\u001b[0;32m    182\u001b[0m \u001b[38;5;28;01mif\u001b[39;00m \u001b[38;5;129;01mnot\u001b[39;00m \u001b[38;5;28misinstance\u001b[39m(converted, UnknownException):\n\u001b[0;32m    183\u001b[0m     \u001b[38;5;66;03m# Hide where the exception came from that shows a non-Pythonic\u001b[39;00m\n\u001b[0;32m    184\u001b[0m     \u001b[38;5;66;03m# JVM exception message.\u001b[39;00m\n\u001b[1;32m--> 185\u001b[0m     \u001b[38;5;28;01mraise\u001b[39;00m converted \u001b[38;5;28;01mfrom\u001b[39;00m \u001b[38;5;28;01mNone\u001b[39;00m\n\u001b[0;32m    186\u001b[0m \u001b[38;5;28;01melse\u001b[39;00m:\n\u001b[0;32m    187\u001b[0m     \u001b[38;5;28;01mraise\u001b[39;00m\n",
      "\u001b[1;31mAnalysisException\u001b[0m: [UNRESOLVED_COLUMN.WITH_SUGGESTION] A column or function parameter with name `VEH_BODY_STYL_ID` cannot be resolved. Did you mean one of the following? [`PRSN_REST_ID`, `PRSN_TYPE_ID`, `CRASH_ID`, `DRVR_DRG_CAT_1_ID`, `DRVR_LIC_STATE_ID`].;\n'Filter trim('VEH_BODY_STYL_ID, None) IN (MOTORCYCLE,POLICE MOTORCYCLE)\n+- Relation [CRASH_ID#169,UNIT_NBR#170,PRSN_NBR#171,PRSN_TYPE_ID#172,PRSN_OCCPNT_POS_ID#173,PRSN_INJRY_SEV_ID#174,PRSN_AGE#175,PRSN_ETHNICITY_ID#176,PRSN_GNDR_ID#177,PRSN_EJCT_ID#178,PRSN_REST_ID#179,PRSN_AIRBAG_ID#180,PRSN_HELMET_ID#181,PRSN_SOL_FL#182,PRSN_ALC_SPEC_TYPE_ID#183,PRSN_ALC_RSLT_ID#184,PRSN_BAC_TEST_RSLT#185,PRSN_DRG_SPEC_TYPE_ID#186,PRSN_DRG_RSLT_ID#187,DRVR_DRG_CAT_1_ID#188,PRSN_DEATH_TIME#189,INCAP_INJRY_CNT#190,NONINCAP_INJRY_CNT#191,POSS_INJRY_CNT#192,... 8 more fields] csv\n"
     ]
    }
   ],
   "source": [
    "two_wheelers = [\"MOTORCYCLE\", \"POLICE MOTORCYCLE\"]\n",
    "\n",
    "a2_01 = units_df.where(trim(col(\"VEH_BODY_STYL_ID\")).isin(two_wheelers))\n",
    "a2_02 = a2_01.select(\"CRASH_ID\", \"UNIT_NBR\").distinct()\n",
    "a2_02.count()"
   ]
  },
  {
   "cell_type": "markdown",
   "id": "9e80c786",
   "metadata": {},
   "source": [
    "## ANALYSIS 3\n",
    "\n",
    "#### Determine the Top 5 Vehicle Makes of the cars present in the crashes in which driver died and Airbags did not deploy."
   ]
  },
  {
   "cell_type": "code",
   "execution_count": null,
   "id": "c586f3c1",
   "metadata": {},
   "outputs": [],
   "source": [
    "# get crash-specific info\n",
    "a3_01 = primary_person_df.where((trim(col(\"PRSN_TYPE_ID\")) == \"DRIVER\") & (trim(col(\"PRSN_INJRY_SEV_ID\")) == \"KILLED\") & (trim(col(\"PRSN_AIRBAG_ID\")) == \"NOT DEPLOYED\"))\n",
    "a3_02 = a3_01.select(\"CRASH_ID\", \"UNIT_NBR\").distinct()\n",
    "\n",
    "# get vehicle-specific info\n",
    "a3_03 = units_df.select(\"CRASH_ID\", \"UNIT_NBR\", \"VEH_MAKE_ID\").distinct()\n",
    "\n",
    "# bring the two together\n",
    "a3_04 = a3_02.join(a3_03, on = [\"CRASH_ID\", \"UNIT_NBR\"], how = \"left\")\n",
    "\n",
    "a3_05 = a3_04.groupBy(\"VEH_MAKE_ID\").agg(count('*').alias(\"CRASHES_PER_MAKE\")).orderBy(col(\"CRASHES_PER_MAKE\").desc())\n",
    "a3_06 = a3_05.select(\"VEH_MAKE_ID\").limit(5)\n",
    "a3_06.show()"
   ]
  },
  {
   "cell_type": "markdown",
   "id": "cf0e1c19",
   "metadata": {},
   "source": [
    "## ANALYSIS 4\n",
    "#### Determine number of Vehicles with driver having valid licences involved in hit and run? "
   ]
  },
  {
   "cell_type": "code",
   "execution_count": null,
   "id": "a99c7adc",
   "metadata": {},
   "outputs": [],
   "source": [
    "#\n",
    "\n",
    "valid_license_types = [\"DRIVER LICENSE\", \"COMMERCIAL DRIVER LIC.\"]\n",
    "\n",
    "# get legit licensed driver crash records\n",
    "a4_01 = primary_person_df.where(trim(col(\"DRVR_LIC_TYPE_ID\")).isin(valid_license_types)).select(\"CRASH_ID\", \"UNIT_NBR\").distinct()\n",
    "http://localhost:8888/notebooks/Case_Study_BCGX/BCGX_CAR_CRASH_ANALYSIS.ipynb#\n",
    "# get hit and run crash records\n",
    "a4_02 = units_df.where(trim(col(\"VEH_HNR_FL\")) == \"Y\").select(\"CRASH_ID\", \"UNIT_NBR\").distinct()\n",
    "\n",
    "# bring the two together\n",
    "a4_03 = a4_01.join(a4_02, on = [\"CRASH_ID\", \"UNIT_NBR\"], how = \"inner\")\n",
    "a4_03.count()"
   ]
  },
  {
   "cell_type": "markdown",
   "id": "c5d6c14a",
   "metadata": {},
   "source": [
    "## ANALYSIS 5\n",
    "#### Which state has highest number of accidents in which females are not involved? "
   ]
  },
  {
   "cell_type": "code",
   "execution_count": null,
   "id": "d6844948",
   "metadata": {},
   "outputs": [],
   "source": [
    "# let's first seggregate the crashes doesn't involve women\n",
    "\n",
    "a5_01 = primary_person_df.groupBy(\"CRASH_ID\").agg(collect_set(\"PRSN_GNDR_ID\").alias(\"CRASH_GENDER_POOL\"))\n",
    "a5_02 = a5_01.where((size(col(\"CRASH_GENDER_POOL\")) == 1) & (trim(col(\"CRASH_GENDER_POOL\")[0]) == \"MALE\")).select(\"CRASH_ID\")\n",
    "\n",
    "# Let's now get the corresponding states for those crashes\n",
    "a5_03 = units_df.select(\"CRASH_ID\", \"VEH_LIC_STATE_ID\").distinct()\n",
    "\n",
    "a5_04 = a5_02.join(a5_03, on = [\"CRASH_ID\"], how = \"left\").select(\"VEH_LIC_STATE_ID\")\n",
    "a5_05 = a5_04.groupBy(\"VEH_LIC_STATE_ID\").agg(count(\"*\").alias(\"state_count\")).orderBy(col(\"state_count\").desc())\n",
    "a5_06 = a5_05.limit(1).select(\"VEH_LIC_STATE_ID\")\n",
    "a5_06.show()"
   ]
  },
  {
   "cell_type": "markdown",
   "id": "20851c53",
   "metadata": {},
   "source": [
    "## ANALYSIS 6\n",
    "#### Which are the Top 3rd to 5th VEH_MAKE_IDs that contribute to a largest number of injuries including death?"
   ]
  },
  {
   "cell_type": "code",
   "execution_count": null,
   "id": "9bcd898d",
   "metadata": {},
   "outputs": [],
   "source": [
    "# records corresponding to all possible injuries\n",
    "a6_01 = primary_person_df.where(col(\"PRSN_INJRY_SEV_ID\") != \"NOT INJURED\").select(\"CRASH_ID\", \"UNIT_NBR\").distinct()\n",
    "\n",
    "# get the make_id of vehicles involved in all crashes\n",
    "a6_02 = units_df.select(\"CRASH_ID\", \"UNIT_NBR\", \"VEH_MAKE_ID\").distinct()\n",
    "\n",
    "#bring the two together\n",
    "a6_03 = a6_01.join(a6_02, on = [\"CRASH_ID\", \"UNIT_NBR\"], how = \"left\")\n",
    "a6_04 = a6_03.groupBy(\"VEH_MAKE_ID\").agg(count(\"*\").alias(\"COUNT_BY_MAKE_ID\"))\n",
    "\n",
    "# Get those between Rank 3 & 5\n",
    "w2 = Window.orderBy(col(\"COUNT_BY_MAKE_ID\").desc())\n",
    "a6_05 = a6_04.withColumn(\"RANK_MAKE_BY_CRASH_COUNT\", rank().over(w2))\n",
    "a6_06 = a6_05.select(\"VEH_MAKE_ID\",\"RANK_MAKE_BY_CRASH_COUNT\").where((col(\"RANK_MAKE_BY_CRASH_COUNT\") > 2))\n",
    "a6_07 = a6_06.where((col(\"RANK_MAKE_BY_CRASH_COUNT\") < 6))\n",
    "a6_07.show()"
   ]
  },
  {
   "cell_type": "markdown",
   "id": "ba9cb9a0",
   "metadata": {},
   "source": [
    "## ANALYSIS 7\n",
    "#### For all the body styles involved in crashes, mention the top ethnic user group of each unique body style  "
   ]
  },
  {
   "cell_type": "code",
   "execution_count": null,
   "id": "24215f97",
   "metadata": {},
   "outputs": [],
   "source": [
    "# get body-style info for each crash unit\n",
    "a7_01 = units_df.select(\"CRASH_ID\", \"UNIT_NBR\", \"VEH_BODY_STYL_ID\").distinct()\n",
    "\n",
    "# get ethnicity of person involved in crash\n",
    "a7_02 = primary_person_df.select(\"CRASH_ID\", \"UNIT_NBR\", \"PRSN_ETHNICITY_ID\").distinct()\n",
    "\n",
    "# bring them together\n",
    "a7_03 = a7_01.join(a7_02, on = [\"CRASH_ID\", \"UNIT_NBR\"], how = \"inner\").drop(\"CRASH_ID\", \"UNIT_NBR\")\n",
    "\n",
    "a7_04 = a7_03.groupBy(\"VEH_BODY_STYL_ID\", \"PRSN_ETHNICITY_ID\").agg(count(\"*\").alias(\"count_ethnic_bdystyl_group\"))#.show()\n",
    "\n",
    "w3 = Window.partitionBy(\"VEH_BODY_STYL_ID\").orderBy(col(\"count_ethnic_bdystyl_group\").desc())\n",
    "a7_05 = a7_04.withColumn(\"rank_ethnic_bdystyl_group\", rank().over(w3))\n",
    "a7_06 = a7_05.where(col(\"rank_ethnic_bdystyl_group\") == 1).select(\"VEH_BODY_STYL_ID\", \"PRSN_ETHNICITY_ID\")\n",
    "a7_06.show(truncate = False)"
   ]
  },
  {
   "cell_type": "markdown",
   "id": "1c16a9f6",
   "metadata": {},
   "source": [
    "## ANALYSIS 8\n",
    "#### Among the crashed cars, what are the Top 5 Zip Codes with highest number crashes with alcohols as the contributing factor to a crash (Use Driver Zip Code)"
   ]
  },
  {
   "cell_type": "code",
   "execution_count": null,
   "id": "c53ae197",
   "metadata": {},
   "outputs": [],
   "source": [
    "alcohol_contrib_factors = [\"UNDER INFLUENCE - ALCOHOL\", \"HAD BEEN DRINKING\"]\n",
    "\n",
    "# get crash-victims with alcohol as the contributing factor\n",
    "a8_01 = units_df.where(trim(col(\"CONTRIB_FACTR_1_ID\")).isin(alcohol_contrib_factors)).select(\"CRASH_ID\", \"UNIT_NBR\").distinct()\n",
    "# get zip info of crash-victims\n",
    "a8_02 = primary_person_df.select(\"CRASH_ID\", \"UNIT_NBR\", \"DRVR_ZIP\")\n",
    "\n",
    "# bring both together\n",
    "a8_03 = a8_01.join(a8_02, on = [\"CRASH_ID\", \"UNIT_NBR\"], how = \"left\")\n",
    "\n",
    "# get the count of alcohol induced crashes by driver zip\n",
    "a8_04 = a8_03.groupBy(\"DRVR_ZIP\").agg(count('*').alias(\"DND_CRASH_COUNT_ZIP\")).orderBy(col(\"DND_CRASH_COUNT_ZIP\").desc()).limit(6)\n",
    "a8_05 = a8_04.where(col(\"DRVR_ZIP\").isNotNull()).distinct()\n",
    "a8_05.show()"
   ]
  },
  {
   "cell_type": "markdown",
   "id": "14701d8b",
   "metadata": {},
   "source": [
    "## ANALYSIS 9\n",
    "#### Count of Distinct Crash IDs where No Damaged Property was observed and Damage Level (VEH_DMAG_SCL~) is above 4 and car avails Insurance"
   ]
  },
  {
   "cell_type": "code",
   "execution_count": null,
   "id": "1c2cc26c",
   "metadata": {},
   "outputs": [],
   "source": [
    "req_damage_levels = [\"DAMAGED 5\",\"DAMAGED 6\",\"DAMAGED 7 HIGHEST\"]\n",
    "# get crashes with req damage levels and valid insurance \n",
    "a9_01 = units_df.where((trim(col('VEH_DMAG_SCL_1_ID')).isin(req_damage_levels) | trim(col('VEH_DMAG_SCL_2_ID')).isin(req_damage_levels)))\n",
    "a9_02 = a9_01.where(trim(col('FIN_RESP_TYPE_ID')).contains(\"INSURANCE\")).select(\"CRASH_ID\").distinct()\n",
    "\n",
    "# get no damage crashes from above with an anti-left join with damages_df\n",
    "a9_03 = damages_df.select(\"CRASH_ID\").distinct()\n",
    "\n",
    "a9_04 = a9_02.join(a9_03, on = [\"CRASH_ID\"], how = 'leftanti')\n",
    "a9_04.count()"
   ]
  },
  {
   "cell_type": "markdown",
   "id": "9665d95e",
   "metadata": {},
   "source": [
    "## ANALYSIS 10\n",
    "#### Determine the Top 5 Vehicle Makes where drivers are charged with speeding related offences, has licensed Drivers, used top 10 used vehicle colours and has car licensed with the Top 25 states with highest number of offences (to be deduced from the data)"
   ]
  },
  {
   "cell_type": "code",
   "execution_count": null,
   "id": "773678b1",
   "metadata": {},
   "outputs": [],
   "source": [
    "# get account of drivers charged with speeding related offense\n",
    "a10_01 = charges_df.filter(col('CHARGE').contains('SPEED')).select('CRASH_ID','UNIT_NBR','CHARGE')\n",
    "\n",
    "# get top 10 used vehicle colors\n",
    "a10_02 = units_df.filter(\"VEH_COLOR_ID != 'NA'\").select('VEH_COLOR_ID').groupBy('VEH_COLOR_ID').agg(count('*').alias(\"COUNT_BY_COLORS\"))\n",
    "a10_03 = a10_02.withColumn('RANK_TOP_COLORS',rank().over(Window.orderBy(col('COUNT_BY_COLORS').desc()))).filter(col(\"RANK_TOP_COLORS\") <= 10).select('VEH_COLOR_ID')\n",
    "\n",
    "# get top 25 states\n",
    "a10_04 = units_df.filter(~col('VEH_LIC_STATE_ID').isin(['NA','Unknown','Other'])).select('VEH_LIC_STATE_ID').groupBy('VEH_LIC_STATE_ID').agg(count('*').alias(\"COUNT_BY_STATE\"))\n",
    "a10_05 = a10_04.withColumn('RANK_TOP_STATES',rank().over(Window.orderBy(col('COUNT_BY_STATE').desc()))).filter(col(\"RANK_TOP_STATES\") <= 25).select('VEH_LIC_STATE_ID')\n",
    "\n",
    "# get crashes corresponding to top 10 colors\n",
    "a10_06 = units_df.join(a10_03,on=['VEH_COLOR_ID'],how='inner').select('CRASH_ID','UNIT_NBR','VEH_MAKE_ID','VEH_LIC_STATE_ID')\n",
    "\n",
    "# further, get crashes corresponding to speeding related offense\n",
    "a10_07 = a10_06.join(a10_01,on=['CRASH_ID','UNIT_NBR'],how='inner').select('CRASH_ID','UNIT_NBR','VEH_MAKE_ID','VEH_LIC_STATE_ID')\n",
    "\n",
    "#furthur, get the crashes that occured only in the top 25 states\n",
    "a10_08 = a10_07.join(a10_05, on=['VEH_LIC_STATE_ID'],how='inner').select('CRASH_ID','UNIT_NBR','VEH_MAKE_ID')\n",
    "\n",
    "#crashes corresponding to licensed drivers\n",
    "a10_09 = primary_person_df.filter(~trim(col(\"DRVR_LIC_CLS_ID\")).isin(['UNLICENSED', \"NA\", \"UNKNOWN\"])).select('CRASH_ID','UNIT_NBR')\n",
    "\n",
    "#bring them together\n",
    "a10_10 = a10_09.join(a10_08,on=['CRASH_ID','UNIT_NBR'],how='inner').select('VEH_MAKE_ID').groupBy('VEH_MAKE_ID').agg(count('*').alias(\"MAKEWISE_COUNT\")) \n",
    "a10_11 = a10_10.orderBy(col(\"MAKEWISE_COUNT\").desc()).limit(5)\n",
    "\n",
    "a10_11.show()"
   ]
  },
  {
   "cell_type": "code",
   "execution_count": null,
   "id": "040b9a19",
   "metadata": {},
   "outputs": [],
   "source": []
  }
 ],
 "metadata": {
  "kernelspec": {
   "display_name": "Python 3 (ipykernel)",
   "language": "python",
   "name": "python3"
  },
  "language_info": {
   "codemirror_mode": {
    "name": "ipython",
    "version": 3
   },
   "file_extension": ".py",
   "mimetype": "text/x-python",
   "name": "python",
   "nbconvert_exporter": "python",
   "pygments_lexer": "ipython3",
   "version": "3.11.4"
  }
 },
 "nbformat": 4,
 "nbformat_minor": 5
}
